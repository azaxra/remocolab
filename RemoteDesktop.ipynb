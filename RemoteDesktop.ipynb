{
  "nbformat": 4,
  "nbformat_minor": 0,
  "metadata": {
    "colab": {
      "name": "Remote Desktop Google Colab.ipynb",
      "provenance": [],
      "collapsed_sections": []
    },
    "kernelspec": {
      "name": "python3",
      "display_name": "Python 3"
    },
    "accelerator": "GPU"
  },
  "cells": [
    {
      "cell_type": "code",
      "metadata": {
        "id": "b6-3HGFxwVaV",
        "colab_type": "code",
        "outputId": "6e388e76-a458-4068-cc9f-b2f7cb61c6ed",
        "colab": {
          "base_uri": "https://localhost:8080/",
          "height": 239
        }
      },
      "source": [
        "!wget https://raw.githubusercontent.com/azaxra/remocolab/master/remocolab.py"
      ],
      "execution_count": 0,
      "outputs": [
        {
          "output_type": "stream",
          "text": [
            "--2019-11-26 12:48:50--  https://raw.githubusercontent.com/azaxra/remocolab/master/remocolab.py\n",
            "Resolving raw.githubusercontent.com (raw.githubusercontent.com)... 151.101.0.133, 151.101.64.133, 151.101.128.133, ...\n",
            "Connecting to raw.githubusercontent.com (raw.githubusercontent.com)|151.101.0.133|:443... connected.\n",
            "HTTP request sent, awaiting response... 200 OK\n",
            "Length: 9156 (8.9K) [text/plain]\n",
            "Saving to: ‘remocolab.py’\n",
            "\n",
            "\rremocolab.py          0%[                    ]       0  --.-KB/s               \rremocolab.py        100%[===================>]   8.94K  --.-KB/s    in 0s      \n",
            "\n",
            "2019-11-26 12:48:50 (176 MB/s) - ‘remocolab.py’ saved [9156/9156]\n",
            "\n"
          ],
          "name": "stdout"
        }
      ]
    },
    {
      "cell_type": "code",
      "metadata": {
        "colab_type": "code",
        "outputId": "08adea66-ae25-4031-e8a2-a49ebeb2a177",
        "id": "EEnafcyJCIL9",
        "colab": {
          "base_uri": "https://localhost:8080/",
          "height": 880
        }
      },
      "source": [
        "import remocolab\n",
        "remocolab.setupVNC()"
      ],
      "execution_count": 0,
      "outputs": [
        {
          "output_type": "stream",
          "text": [
            "---\n",
            "Copy&paste your tunnel authtoken from https://dashboard.ngrok.com/auth\n",
            "(You need to sign up for ngrok and login,)\n",
            "Select your ngrok region:\n",
            "us - United States (Ohio)\n",
            "eu - Europe (Frankfurt)\n",
            "ap - Asia/Pacific (Singapore)\n",
            "au - Australia (Sydney)\n",
            "sa - South America (Sao Paulo)\n",
            "jp - Japan (Tokyo)\n",
            "in - India (Mumbai)\n",
            "Install openssh-server\n",
            "ECDSA key fingerprint of host:\n",
            "256 SHA256:gpM45Bb+XF0ql5Dbfda7GqCbK+nu4RihBd1GyRmNmQ4 root@4197b9546584 (ECDSA)\n",
            "+---[ECDSA 256]---+\n",
            "|     .oO         |\n",
            "|   .EoB..        |\n",
            "|  + .o=   .      |\n",
            "| + + +.= =   .   |\n",
            "|  * * = S o o .  |\n",
            "| . * + + . +   . |\n",
            "|  . + ...   . .  |\n",
            "|     +o. o   . . |\n",
            "|    .+=.+.  ...  |\n",
            "+----[SHA256]-----+\n",
            "\n",
            "✂️✂️✂️✂️✂️✂️✂️✂️✂️✂️✂️✂️✂️✂️✂️✂️✂️✂️✂️✂️✂️✂️✂️✂️\n",
            "root password: 1234\n",
            "rayniar password: 1234\n",
            "✂️✂️✂️✂️✂️✂️✂️✂️✂️✂️✂️✂️✂️✂️✂️✂️✂️✂️✂️✂️✂️✂️✂️✂️\n",
            "---\n",
            "Command to connect to the ssh server:\n",
            "✂️✂️✂️✂️✂️✂️✂️✂️✂️✂️✂️✂️✂️✂️✂️✂️✂️✂️✂️✂️✂️✂️✂️✂️\n",
            "ssh -o UserKnownHostsFile=/dev/null -o VisualHostKey=yes -p 14216 rayniar@0.tcp.ap.ngrok.io\n",
            "✂️✂️✂️✂️✂️✂️✂️✂️✂️✂️✂️✂️✂️✂️✂️✂️✂️✂️✂️✂️✂️✂️✂️✂️\n",
            "---\n",
            "If you use VNC:\n",
            "✂️✂️✂️✂️✂️✂️✂️✂️✂️✂️✂️✂️✂️✂️✂️✂️✂️✂️✂️✂️✂️✂️✂️✂️\n",
            "ssh -o UserKnownHostsFile=/dev/null -o VisualHostKey=yes -L 5901:localhost:5901 -p 14216 rayniar@0.tcp.ap.ngrok.io\n",
            "✂️✂️✂️✂️✂️✂️✂️✂️✂️✂️✂️✂️✂️✂️✂️✂️✂️✂️✂️✂️✂️✂️✂️✂️\n",
            "Install xfce4\n",
            "Install xfce4-terminal\n",
            "✂️✂️✂️✂️✂️✂️✂️✂️✂️✂️✂️✂️✂️✂️✂️✂️✂️✂️✂️✂️✂️✂️✂️✂️\n",
            "VNC password: nWYZ1RoW\n",
            "VNC view only password: rhDW7AiD\n",
            "✂️✂️✂️✂️✂️✂️✂️✂️✂️✂️✂️✂️✂️✂️✂️✂️✂️✂️✂️✂️✂️✂️✂️✂️\n",
            "\n"
          ],
          "name": "stdout"
        }
      ]
    },
    {
      "cell_type": "code",
      "metadata": {
        "colab_type": "code",
        "id": "ZiRRRTAKCHXc",
        "colab": {}
      },
      "source": [
        "#tunggu sampai 5 menit lebih"
      ],
      "execution_count": 0,
      "outputs": []
    },
    {
      "cell_type": "code",
      "metadata": {
        "id": "DyNxzkKuEUp7",
        "colab_type": "code",
        "colab": {}
      },
      "source": [
        "!wget https://dl.google.com/dl/android/studio/ide-zips/3.5.1.0/android-studio-ide-191.5900203-linux.tar.gz"
      ],
      "execution_count": 0,
      "outputs": []
    },
    {
      "cell_type": "code",
      "metadata": {
        "id": "svrNvfJ1t9hX",
        "colab_type": "code",
        "colab": {}
      },
      "source": [
        "!wget https://storage.googleapis.com/flutter_infra/releases/stable/linux/flutter_linux_v1.9.1+hotfix.6-stable.tar.xz "
      ],
      "execution_count": 0,
      "outputs": []
    },
    {
      "cell_type": "code",
      "metadata": {
        "id": "iWtJtAYdGhqn",
        "colab_type": "code",
        "outputId": "cf9c49e5-3592-4cdb-d3d3-eaa2cfe3b3af",
        "colab": {
          "base_uri": "https://localhost:8080/",
          "height": 844
        }
      },
      "source": [
        "!apt install firefox"
      ],
      "execution_count": 0,
      "outputs": [
        {
          "output_type": "stream",
          "text": [
            "Reading package lists... Done\n",
            "Building dependency tree       \n",
            "Reading state information... Done\n",
            "The following package was automatically installed and is no longer required:\n",
            "  libnvidia-common-430\n",
            "Use 'apt autoremove' to remove it.\n",
            "The following additional packages will be installed:\n",
            "  libdbusmenu-glib4 libdbusmenu-gtk3-4 xul-ext-ubufox\n",
            "Suggested packages:\n",
            "  fonts-lyx\n",
            "The following NEW packages will be installed:\n",
            "  firefox libdbusmenu-glib4 libdbusmenu-gtk3-4 xul-ext-ubufox\n",
            "0 upgraded, 4 newly installed, 0 to remove and 7 not upgraded.\n",
            "Need to get 49.9 MB of archives.\n",
            "After this operation, 195 MB of additional disk space will be used.\n",
            "Get:1 http://archive.ubuntu.com/ubuntu bionic-updates/main amd64 firefox amd64 70.0.1+build1-0ubuntu0.18.04.1 [49.8 MB]\n",
            "Get:2 http://archive.ubuntu.com/ubuntu bionic-updates/main amd64 libdbusmenu-glib4 amd64 16.04.1+18.04.20171206-0ubuntu2 [41.0 kB]\n",
            "Get:3 http://archive.ubuntu.com/ubuntu bionic-updates/main amd64 libdbusmenu-gtk3-4 amd64 16.04.1+18.04.20171206-0ubuntu2 [26.8 kB]\n",
            "Get:4 http://archive.ubuntu.com/ubuntu bionic/main amd64 xul-ext-ubufox all 3.4-0ubuntu1.17.10.1 [3,320 B]\n",
            "Fetched 49.9 MB in 7s (7,006 kB/s)\n",
            "Selecting previously unselected package firefox.\n",
            "(Reading database ... 179656 files and directories currently installed.)\n",
            "Preparing to unpack .../firefox_70.0.1+build1-0ubuntu0.18.04.1_amd64.deb ...\n",
            "Unpacking firefox (70.0.1+build1-0ubuntu0.18.04.1) ...\n",
            "Selecting previously unselected package libdbusmenu-glib4:amd64.\n",
            "Preparing to unpack .../libdbusmenu-glib4_16.04.1+18.04.20171206-0ubuntu2_amd64.deb ...\n",
            "Unpacking libdbusmenu-glib4:amd64 (16.04.1+18.04.20171206-0ubuntu2) ...\n",
            "Selecting previously unselected package libdbusmenu-gtk3-4:amd64.\n",
            "Preparing to unpack .../libdbusmenu-gtk3-4_16.04.1+18.04.20171206-0ubuntu2_amd64.deb ...\n",
            "Unpacking libdbusmenu-gtk3-4:amd64 (16.04.1+18.04.20171206-0ubuntu2) ...\n",
            "Selecting previously unselected package xul-ext-ubufox.\n",
            "Preparing to unpack .../xul-ext-ubufox_3.4-0ubuntu1.17.10.1_all.deb ...\n",
            "Unpacking xul-ext-ubufox (3.4-0ubuntu1.17.10.1) ...\n",
            "Setting up xul-ext-ubufox (3.4-0ubuntu1.17.10.1) ...\n",
            "Setting up libdbusmenu-glib4:amd64 (16.04.1+18.04.20171206-0ubuntu2) ...\n",
            "Setting up firefox (70.0.1+build1-0ubuntu0.18.04.1) ...\n",
            "update-alternatives: using /usr/bin/firefox to provide /usr/bin/gnome-www-browser (gnome-www-browser) in auto mode\n",
            "update-alternatives: using /usr/bin/firefox to provide /usr/bin/x-www-browser (x-www-browser) in auto mode\n",
            "Please restart all running instances of firefox, or you will experience problems.\n",
            "Setting up libdbusmenu-gtk3-4:amd64 (16.04.1+18.04.20171206-0ubuntu2) ...\n",
            "Processing triggers for man-db (2.8.3-2ubuntu0.1) ...\n",
            "Processing triggers for hicolor-icon-theme (0.17-2) ...\n",
            "Processing triggers for mime-support (3.60ubuntu1) ...\n",
            "Processing triggers for desktop-file-utils (0.23-1ubuntu3.18.04.2) ...\n",
            "Processing triggers for libc-bin (2.27-3ubuntu1) ...\n"
          ],
          "name": "stdout"
        }
      ]
    },
    {
      "cell_type": "code",
      "metadata": {
        "id": "ZEJSBVhBS9Qk",
        "colab_type": "code",
        "colab": {}
      },
      "source": [
        "!apt-get install default-jdk"
      ],
      "execution_count": 0,
      "outputs": []
    },
    {
      "cell_type": "code",
      "metadata": {
        "id": "NS2B-LLk8qQp",
        "colab_type": "code",
        "colab": {}
      },
      "source": [
        "!export JAVA_HOME=/usr/lib/jvm/java-11-openjdk-amd64"
      ],
      "execution_count": 0,
      "outputs": []
    },
    {
      "cell_type": "code",
      "metadata": {
        "id": "MI1vWU2I8r7j",
        "colab_type": "code",
        "colab": {}
      },
      "source": [
        "!export PATH=$JAVA_HOME/bin:$PATH"
      ],
      "execution_count": 0,
      "outputs": []
    },
    {
      "cell_type": "code",
      "metadata": {
        "id": "CGEz41JWTCQ2",
        "colab_type": "code",
        "colab": {}
      },
      "source": [
        "!wget https://dl.google.com/linux/direct/google-chrome-stable_current_amd64.deb"
      ],
      "execution_count": 0,
      "outputs": []
    },
    {
      "cell_type": "code",
      "metadata": {
        "id": "jZppKNpB8jvA",
        "colab_type": "code",
        "colab": {}
      },
      "source": [
        "!tar xvzf android-studio-ide-191.5900203-linux.tar.gz"
      ],
      "execution_count": 0,
      "outputs": []
    },
    {
      "cell_type": "code",
      "metadata": {
        "id": "BsMzXrsRuPcJ",
        "colab_type": "code",
        "colab": {}
      },
      "source": [
        "!tar xf flutter_linux_v1.9.1+hotfix.6-stable.tar.xz"
      ],
      "execution_count": 0,
      "outputs": []
    },
    {
      "cell_type": "markdown",
      "metadata": {
        "id": "EMVmY1QTYYIZ",
        "colab_type": "text"
      },
      "source": [
        "\n",
        "sdfsdfeddfsfddeqqqqasd\n",
        "\n",
        "https://linuxgamecast.com/2019/08/davinci-on-linux-import-mp4-mp3/\n",
        "\n",
        "https://drive.google.com/file/d/1EVVQnqU_FbJfYvExURkMRWWmKVTM1SOC/view\n",
        "\n",
        "https://medium.com/@shivamrawat_756/how-to-prevent-google-colab-from-disconnecting-717b88a128c0\n",
        "\n",
        "http://ubuntuhandbook.org/index.php/2018/03/install-obs-studio-21-1-in-ubuntu-18-0416-04/"
      ]
    },
    {
      "cell_type": "code",
      "metadata": {
        "id": "Ablxy_z-B3t3",
        "colab_type": "code",
        "colab": {}
      },
      "source": [
        "asdasdasdasdasdkkkkkkkkokokokokokokokokokokokkooookkkookkokokokkkokokokokokokookkkokookookokookooookkookkkokokokokok"
      ],
      "execution_count": 0,
      "outputs": []
    }
  ]
}